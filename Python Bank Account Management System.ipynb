{
 "cells": [
  {
   "cell_type": "markdown",
   "id": "fb1d1d7d-dfba-4c49-9326-71505caf90ef",
   "metadata": {},
   "source": [
    "# Python Bank Account Management System"
   ]
  },
  {
   "cell_type": "code",
   "execution_count": 2,
   "id": "c78bf82a-f192-43f9-801b-107cb48b4433",
   "metadata": {},
   "outputs": [
    {
     "name": "stdout",
     "output_type": "stream",
     "text": [
      "Welcome to Wscube Bank\n",
      "\n",
      "Menu Options:\n",
      "\n",
      "    1. Open an Account\n",
      "    2. View Account Details\n",
      "    3. Withdraw / Deposit / Transfer\n",
      "    4. View Transaction History\n",
      "    5. Exit the Program\n",
      "    \n"
     ]
    },
    {
     "name": "stdin",
     "output_type": "stream",
     "text": [
      "Enter your choice (1-5):  1\n",
      "Enter PAN card number:  SMR\n",
      "Enter your name:  sangeeta\n",
      "Savings or Current?  savings\n",
      "Enter initial deposit:  5000\n"
     ]
    },
    {
     "name": "stdout",
     "output_type": "stream",
     "text": [
      "Account created successfully!\n",
      "Account Details: {'name': 'sangeeta', 'account_type': 'savings', 'balance': 5000.0, 'account_no': '98765432106347'}\n",
      "\n",
      "Menu Options:\n",
      "\n",
      "    1. Open an Account\n",
      "    2. View Account Details\n",
      "    3. Withdraw / Deposit / Transfer\n",
      "    4. View Transaction History\n",
      "    5. Exit the Program\n",
      "    \n"
     ]
    },
    {
     "name": "stdin",
     "output_type": "stream",
     "text": [
      "Enter your choice (1-5):  2\n",
      "Enter PAN card number:  SMR\n"
     ]
    },
    {
     "name": "stdout",
     "output_type": "stream",
     "text": [
      "\n",
      "Your Account Details:\n",
      "Account Holder's Name: sangeeta\n",
      "Account Type: savings\n",
      "Account Number: 98765432106347\n",
      "Total Balance: 5000.0\n",
      "\n",
      "Menu Options:\n",
      "\n",
      "    1. Open an Account\n",
      "    2. View Account Details\n",
      "    3. Withdraw / Deposit / Transfer\n",
      "    4. View Transaction History\n",
      "    5. Exit the Program\n",
      "    \n"
     ]
    },
    {
     "name": "stdin",
     "output_type": "stream",
     "text": [
      "Enter your choice (1-5):  3\n"
     ]
    },
    {
     "name": "stdout",
     "output_type": "stream",
     "text": [
      "\n",
      "        1. Withdraw\n",
      "        2. Deposit\n",
      "        3. Transfer\n",
      "        \n"
     ]
    },
    {
     "name": "stdin",
     "output_type": "stream",
     "text": [
      "Enter your choice (1-3):  1\n",
      "Enter PAN card number:  SMR\n",
      "Enter amount to withdraw:  2000\n"
     ]
    },
    {
     "name": "stdout",
     "output_type": "stream",
     "text": [
      "Withdrawal successful!\n",
      "\n",
      "Menu Options:\n",
      "\n",
      "    1. Open an Account\n",
      "    2. View Account Details\n",
      "    3. Withdraw / Deposit / Transfer\n",
      "    4. View Transaction History\n",
      "    5. Exit the Program\n",
      "    \n"
     ]
    },
    {
     "name": "stdin",
     "output_type": "stream",
     "text": [
      "Enter your choice (1-5):  3\n"
     ]
    },
    {
     "name": "stdout",
     "output_type": "stream",
     "text": [
      "\n",
      "        1. Withdraw\n",
      "        2. Deposit\n",
      "        3. Transfer\n",
      "        \n"
     ]
    },
    {
     "name": "stdin",
     "output_type": "stream",
     "text": [
      "Enter your choice (1-3):  2\n",
      "Enter PAN card number:  SMR\n",
      "Enter amount to deposit:  4000\n"
     ]
    },
    {
     "name": "stdout",
     "output_type": "stream",
     "text": [
      "Deposit successful!\n",
      "\n",
      "Menu Options:\n",
      "\n",
      "    1. Open an Account\n",
      "    2. View Account Details\n",
      "    3. Withdraw / Deposit / Transfer\n",
      "    4. View Transaction History\n",
      "    5. Exit the Program\n",
      "    \n"
     ]
    },
    {
     "name": "stdin",
     "output_type": "stream",
     "text": [
      "Enter your choice (1-5):  3\n"
     ]
    },
    {
     "name": "stdout",
     "output_type": "stream",
     "text": [
      "\n",
      "        1. Withdraw\n",
      "        2. Deposit\n",
      "        3. Transfer\n",
      "        \n"
     ]
    },
    {
     "name": "stdin",
     "output_type": "stream",
     "text": [
      "Enter your choice (1-3):  3\n",
      "Enter your PAN card number:  SMR\n",
      "Enter recipient account number:  98765432106347\n",
      "Enter amount to transfer:  1000\n"
     ]
    },
    {
     "name": "stdout",
     "output_type": "stream",
     "text": [
      "Transfer successful!\n",
      "\n",
      "Menu Options:\n",
      "\n",
      "    1. Open an Account\n",
      "    2. View Account Details\n",
      "    3. Withdraw / Deposit / Transfer\n",
      "    4. View Transaction History\n",
      "    5. Exit the Program\n",
      "    \n"
     ]
    },
    {
     "name": "stdin",
     "output_type": "stream",
     "text": [
      "Enter your choice (1-5):  4\n",
      "Enter PAN card number:  SMR\n"
     ]
    },
    {
     "name": "stdout",
     "output_type": "stream",
     "text": [
      "\n",
      "Transaction History:\n",
      "--------------------------------------------------\n",
      "Date & Time          Amount     Type       Balance   \n",
      "--------------------------------------------------\n",
      "2025-02-09 16:22:14  2000.0     Debited    3000.0    \n",
      "2025-02-09 16:22:41  4000.0     Credited   7000.0    \n",
      "2025-02-09 16:23:19  1000.0     Received   7000.0    \n",
      "\n",
      "Menu Options:\n",
      "\n",
      "    1. Open an Account\n",
      "    2. View Account Details\n",
      "    3. Withdraw / Deposit / Transfer\n",
      "    4. View Transaction History\n",
      "    5. Exit the Program\n",
      "    \n"
     ]
    },
    {
     "name": "stdin",
     "output_type": "stream",
     "text": [
      "Enter your choice (1-5):  5\n"
     ]
    },
    {
     "name": "stdout",
     "output_type": "stream",
     "text": [
      "Thank you for using Wscube Bank. Goodbye!\n"
     ]
    }
   ],
   "source": [
    "account_details = {}\n",
    "transactions = {}\n",
    "import datetime as dt\n",
    "import random\n",
    "\n",
    "print(\"Welcome to Wscube Bank\")\n",
    "\n",
    "while True:\n",
    "    print(\"\\nMenu Options:\")\n",
    "    print(\"\"\"\n",
    "    1. Open an Account\n",
    "    2. View Account Details\n",
    "    3. Withdraw / Deposit / Transfer\n",
    "    4. View Transaction History\n",
    "    5. Exit the Program\n",
    "    \"\"\")\n",
    "\n",
    "    choice = int(input(\"Enter your choice (1-5): \"))\n",
    "    \n",
    "    if choice == 1:\n",
    "        pancard = input(\"Enter PAN card number: \")\n",
    "        if pancard in account_details:\n",
    "            print(\"An account with this PAN card already exists!\")\n",
    "            continue\n",
    "        name = input(\"Enter your name: \")\n",
    "        account_type = input(\"Savings or Current? \")\n",
    "        initial_deposit = float(input(\"Enter initial deposit: \"))\n",
    "        account_no = \"9876543210\" + str(random.randint(1000, 9999))\n",
    "        while any(acc['account_no'] == account_no for acc in account_details.values()):\n",
    "            account_no = \"9876543210\" + str(random.randint(1000, 9999))\n",
    "        \n",
    "        account_details[pancard] = {\n",
    "            \"name\": name,\n",
    "            \"account_type\": account_type,\n",
    "            \"balance\": initial_deposit,\n",
    "            \"account_no\": account_no,\n",
    "        }\n",
    "        transactions[pancard] = {}\n",
    "        print(\"Account created successfully!\")\n",
    "        print(\"Account Details:\", account_details[pancard])\n",
    "\n",
    "    elif choice == 2:\n",
    "        ask_pan = input(\"Enter PAN card number: \")\n",
    "        if ask_pan in account_details:\n",
    "            account = account_details[ask_pan]\n",
    "            print(\"\\nYour Account Details:\")\n",
    "            print(f\"Account Holder's Name: {account['name']}\")\n",
    "            print(f\"Account Type: {account['account_type']}\")\n",
    "            print(f\"Account Number: {account['account_no']}\")\n",
    "            print(f\"Total Balance: {account['balance']}\")\n",
    "        else:\n",
    "            print(\"No account found with this PAN card.\")\n",
    "\n",
    "    elif choice == 3:\n",
    "        print(\"\"\"\n",
    "        1. Withdraw\n",
    "        2. Deposit\n",
    "        3. Transfer\n",
    "        \"\"\")\n",
    "        n_choice = int(input(\"Enter your choice (1-3): \"))\n",
    "        \n",
    "        if n_choice == 1:\n",
    "            ask_pan = input(\"Enter PAN card number: \")\n",
    "            if ask_pan in account_details:\n",
    "                amount = float(input(\"Enter amount to withdraw: \"))\n",
    "                if amount > account_details[ask_pan]['balance']:\n",
    "                    print(\"Insufficient balance!\")\n",
    "                else:\n",
    "                    account_details[ask_pan]['balance'] -= amount\n",
    "                    ts = dt.datetime.now().strftime(\"%Y-%m-%d %H:%M:%S\")\n",
    "                    transactions[ask_pan][ts] = [amount, \"Debited\", account_details[ask_pan]['balance']]\n",
    "                    print(\"Withdrawal successful!\")\n",
    "            else:\n",
    "                print(\"No account found with this PAN card.\")\n",
    "\n",
    "        elif n_choice == 2:\n",
    "            ask_pan = input(\"Enter PAN card number: \")\n",
    "            if ask_pan in account_details:\n",
    "                amount = float(input(\"Enter amount to deposit: \"))\n",
    "                account_details[ask_pan]['balance'] += amount\n",
    "                ts = dt.datetime.now().strftime(\"%Y-%m-%d %H:%M:%S\")\n",
    "                transactions[ask_pan][ts] = [amount, \"Credited\", account_details[ask_pan]['balance']]\n",
    "                print(\"Deposit successful!\")\n",
    "            else:\n",
    "                print(\"No account found with this PAN card.\")\n",
    "\n",
    "        elif n_choice == 3:\n",
    "            sender_pan = input(\"Enter your PAN card number: \")\n",
    "            if sender_pan in account_details:\n",
    "                recipient_acc_no = input(\"Enter recipient account number: \")\n",
    "                recipient = next((pan for pan, acc in account_details.items() if acc['account_no'] == recipient_acc_no), None)\n",
    "                if recipient:\n",
    "                    amount = float(input(\"Enter amount to transfer: \"))\n",
    "                    if amount > account_details[sender_pan]['balance']:\n",
    "                        print(\"Insufficient balance!\")\n",
    "                    else:\n",
    "                        account_details[sender_pan]['balance'] -= amount\n",
    "                        account_details[recipient]['balance'] += amount\n",
    "                        ts = dt.datetime.now().strftime(\"%Y-%m-%d %H:%M:%S\")\n",
    "                        transactions[sender_pan][ts] = [amount, \"Transferred\", account_details[sender_pan]['balance']]\n",
    "                        transactions[recipient][ts] = [amount, \"Received\", account_details[recipient]['balance']]\n",
    "                        print(\"Transfer successful!\")\n",
    "                else:\n",
    "                    print(\"Recipient account not found.\")\n",
    "            else:\n",
    "                print(\"No account found with this PAN card.\")\n",
    "\n",
    "    elif choice == 4:\n",
    "        ask_pan = input(\"Enter PAN card number: \")\n",
    "        if ask_pan in transactions:\n",
    "            print(\"\\nTransaction History:\")\n",
    "            print(\"-\" * 50)\n",
    "            print(\"{:<20} {:<10} {:<10} {:<10}\".format(\"Date & Time\", \"Amount\", \"Type\", \"Balance\"))\n",
    "            print(\"-\" * 50)\n",
    "            for ts, details in transactions[ask_pan].items():\n",
    "                print(f\"{ts:<20} {details[0]:<10} {details[1]:<10} {details[2]:<10}\")\n",
    "        else:\n",
    "            print(\"No transactions found for this account.\")\n",
    "\n",
    "    elif choice == 5:\n",
    "        print(\"Thank you for using Wscube Bank. Goodbye!\")\n",
    "        break\n",
    "\n",
    "    else:\n",
    "        print(\"Invalid choice. Please try again.\")\n",
    "\n"
   ]
  }
 ],
 "metadata": {
  "kernelspec": {
   "display_name": "Python 3 (ipykernel)",
   "language": "python",
   "name": "python3"
  },
  "language_info": {
   "codemirror_mode": {
    "name": "ipython",
    "version": 3
   },
   "file_extension": ".py",
   "mimetype": "text/x-python",
   "name": "python",
   "nbconvert_exporter": "python",
   "pygments_lexer": "ipython3",
   "version": "3.12.8"
  }
 },
 "nbformat": 4,
 "nbformat_minor": 5
}
